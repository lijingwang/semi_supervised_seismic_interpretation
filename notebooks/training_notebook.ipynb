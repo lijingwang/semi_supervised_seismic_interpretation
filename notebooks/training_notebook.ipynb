{
 "cells": [
  {
   "cell_type": "code",
   "execution_count": null,
   "id": "4812dbce",
   "metadata": {},
   "outputs": [],
   "source": [
    "import numpy as np\n",
    "import matplotlib.pyplot as plt\n",
    "import matplotlib\n",
    "%matplotlib inline\n",
    "%config InlineBackend.figure_format='retina'\n",
    "import tensorflow as tf"
   ]
  },
  {
   "cell_type": "markdown",
   "id": "383b8709-3e9b-4702-8a29-2cc523a1b468",
   "metadata": {},
   "source": [
    "# Load F3 inline data"
   ]
  },
  {
   "cell_type": "code",
   "execution_count": null,
   "id": "f1155c03",
   "metadata": {},
   "outputs": [],
   "source": [
    "# load data\n",
    "inline = np.load('../data/inline.npy')\n",
    "inline_mask = np.load('../data/inline_mask.npy')"
   ]
  },
  {
   "cell_type": "code",
   "execution_count": null,
   "id": "a22ca4ab",
   "metadata": {},
   "outputs": [],
   "source": [
    "# expand the dimension\n",
    "inline = np.expand_dims(inline, axis=3)\n",
    "inline = inline[:,:448,:928,:]\n",
    "inline_mask = np.expand_dims(inline_mask, axis=3)\n",
    "inline_mask = inline_mask[:,:448,:928,:]\n",
    "\n",
    "inline = inline[:601,:,:,:]\n",
    "inline_mask = inline_mask[:601,:,:,:]"
   ]
  },
  {
   "cell_type": "code",
   "execution_count": null,
   "id": "84976918",
   "metadata": {},
   "outputs": [],
   "source": [
    "plt.figure(figsize = [18,6.5])\n",
    "for i in np.arange(12):\n",
    "    ax = plt.subplot(3, 4, i+1)\n",
    "    ax.imshow(inline[i*50,:,:,0], cmap = 'gray', vmin = 0, vmax = 1)\n",
    "    ax.axis('off')\n",
    "    ax.set_title('Inline: '+str(i*50+100))"
   ]
  },
  {
   "cell_type": "code",
   "execution_count": null,
   "id": "79f4d1f8",
   "metadata": {},
   "outputs": [],
   "source": [
    "plt.figure(figsize = [18,6])\n",
    "for i in np.arange(13):\n",
    "    ax = plt.subplot(3, 5, i+1)\n",
    "    ax.imshow(inline_mask[i*50,:,:,0], vmin = 0, vmax = 9)\n",
    "    ax.set_xticks([])\n",
    "    ax.set_yticks([])\n",
    "    ax.set_title('Inline: '+str(i*50+100))"
   ]
  },
  {
   "cell_type": "markdown",
   "id": "121f1f65",
   "metadata": {},
   "source": [
    "# Supervised training"
   ]
  },
  {
   "cell_type": "code",
   "execution_count": null,
   "id": "d9ea98aa",
   "metadata": {},
   "outputs": [],
   "source": [
    "# Model: UNet\n",
    "## Batchnorm: default\n",
    "tf.device('/physical_device:GPU:0')\n",
    "import sys\n",
    "sys.path.append('../')\n",
    "from model.unet_BN_default import *"
   ]
  },
  {
   "cell_type": "code",
   "execution_count": null,
   "id": "1b38bd8d",
   "metadata": {},
   "outputs": [],
   "source": [
    "## save path\n",
    "model_name = 'unet_BN_default'\n",
    "checkpoint_filepath = '../save_model/supervised_'+str(model_name)+'.h5'"
   ]
  },
  {
   "cell_type": "code",
   "execution_count": null,
   "id": "d1cdde33-4542-498f-a700-d51df46bc9b5",
   "metadata": {},
   "outputs": [],
   "source": [
    "known_label = np.array([100,400]) # training: inline 200 and 500\n",
    "valid_idx = 50 # val: inline 150\n",
    "\n",
    "## data (add augmented data if needed)\n",
    "training_images = inline[known_label,:,:,:]\n",
    "training_labels = inline_mask[known_label,:,:,:]\n",
    "validation_images = inline[np.hstack([known_label,valid_idx]),:,:,:]\n",
    "validation_labels = inline_mask[np.hstack([known_label,valid_idx]),:,:,:]"
   ]
  },
  {
   "cell_type": "code",
   "execution_count": null,
   "id": "604806e0-7102-41b0-8615-adb99336ed13",
   "metadata": {},
   "outputs": [],
   "source": [
    "## Training\n",
    "n_epochs = 5 ## change into 500 for extensive training\n",
    "learning_rate = 0.001\n",
    "\n",
    "m_super = model(1, 10, activation = 'softmax', test_case = 'test_UNet_supervised')\n",
    "\n",
    "m_super.compile(optimizer=tf.keras.optimizers.Adam(lr=learning_rate),\n",
    "                loss=['sparse_categorical_crossentropy'],\n",
    "                metrics=['mse','sparse_categorical_accuracy'])\n",
    "\n",
    "model_checkpoint_callback = tf.keras.callbacks.ModelCheckpoint(\n",
    "    filepath=checkpoint_filepath,\n",
    "    save_weights_only=True,\n",
    "    monitor='loss',\n",
    "    mode='min',\n",
    "    save_best_only=True)\n",
    "\n",
    "history_super = m_super.fit(training_images, \n",
    "                            training_labels, \n",
    "                            batch_size = 2,\n",
    "                            epochs=n_epochs, verbose = 1,callbacks= [model_checkpoint_callback],\n",
    "                            validation_data = (validation_images,validation_labels))"
   ]
  },
  {
   "cell_type": "markdown",
   "id": "ab1b8c03-2aa4-48c3-b589-ead6d80f5dbd",
   "metadata": {},
   "source": [
    "## A quick inference"
   ]
  },
  {
   "cell_type": "code",
   "execution_count": null,
   "id": "db07907c-d2e4-46e6-8f3e-c5413533b479",
   "metadata": {},
   "outputs": [],
   "source": [
    "images_test = inline[np.arange(0,601,50),:,:,:]\n",
    "prediction= m_super.predict(images_test,batch_size = 1)"
   ]
  },
  {
   "cell_type": "code",
   "execution_count": null,
   "id": "3b985dff-09eb-4de3-9fee-e68c9c01368d",
   "metadata": {},
   "outputs": [],
   "source": [
    "plt.figure(figsize = [18,6])\n",
    "for i in np.arange(13):\n",
    "    ax = plt.subplot(3, 5, i+1)\n",
    "    ax.imshow(np.argmax(prediction,axis = 3)[i,:,:], vmin = 0, vmax = 9)\n",
    "    ax.set_xticks([])\n",
    "    ax.set_yticks([])\n",
    "    ax.set_title('Inline: '+str(i*50+100))"
   ]
  },
  {
   "cell_type": "markdown",
   "id": "fcf0aaa8",
   "metadata": {},
   "source": [
    "# Semi-supervised learning"
   ]
  },
  {
   "cell_type": "markdown",
   "id": "850c0e95",
   "metadata": {},
   "source": [
    "## Stage 1: Pretraining"
   ]
  },
  {
   "cell_type": "code",
   "execution_count": null,
   "id": "881ebe96",
   "metadata": {},
   "outputs": [],
   "source": [
    "## data\n",
    "training_images = inline\n",
    "training_labels = inline"
   ]
  },
  {
   "cell_type": "code",
   "execution_count": null,
   "id": "d8a6ceb0",
   "metadata": {},
   "outputs": [],
   "source": [
    "## save path\n",
    "checkpoint_filepath = '../save_model/pretraining.h5'"
   ]
  },
  {
   "cell_type": "code",
   "execution_count": null,
   "id": "18cbdd80-c860-42e7-8a9b-871032bdf2df",
   "metadata": {},
   "outputs": [],
   "source": [
    "n_epochs = 1 ## change into 500 for extensive training\n",
    "learning_rate = 0.0005\n",
    "\n",
    "m_pre = model(1, 1, activation = 'sigmoid', test_case = 'test_UNet_supervised')\n",
    "\n",
    "m_pre.compile(optimizer=tf.keras.optimizers.Adam(lr=learning_rate),\n",
    "              loss=['mse'],metrics=['mse'])\n",
    "\n",
    "model_checkpoint_callback = tf.keras.callbacks.ModelCheckpoint(\n",
    "    filepath=checkpoint_filepath,\n",
    "    save_weights_only=True,\n",
    "    monitor='val_loss',\n",
    "    mode='min',\n",
    "    save_best_only=True)\n",
    "\n",
    "history_pre = m_pre.fit(training_images, \n",
    "                        training_labels, \n",
    "                        batch_size = 8,\n",
    "                        epochs=n_epochs, verbose = 1,callbacks= [model_checkpoint_callback], \n",
    "                        validation_split = 0.05)"
   ]
  },
  {
   "cell_type": "code",
   "execution_count": null,
   "id": "ab64f2dd-9f5f-498a-bf4a-90afbc4aa51a",
   "metadata": {},
   "outputs": [],
   "source": [
    "plt.figure(figsize = [15,6])\n",
    "for i in np.arange(13):\n",
    "    ax = plt.subplot(3, 5, i+1)\n",
    "    prediction= m_pre.predict(inline[i*50:(i*50+1),:,:,:])[0,:,:,:]\n",
    "    ax.imshow(prediction[:,:,0], cmap = 'gray', vmin = 0, vmax = 1)\n",
    "    ax.set_xticks([])\n",
    "    ax.set_yticks([])\n",
    "    ax.set_title('Inline: '+str(i*50+100))"
   ]
  },
  {
   "cell_type": "markdown",
   "id": "407b129a",
   "metadata": {},
   "source": [
    "## Stage 2: Supervised"
   ]
  },
  {
   "cell_type": "code",
   "execution_count": null,
   "id": "42c9e47b",
   "metadata": {},
   "outputs": [],
   "source": [
    "m_pre = model(1, 1, activation = 'sigmoid', test_case = 'test_UNet_supervised')\n",
    "\n",
    "m_pre.compile(optimizer=tf.keras.optimizers.Adam(lr=learning_rate),\n",
    "              loss=['mse'],metrics=['mse'])\n",
    "\n",
    "m_pre.load_weights('../save_model/pretraining.h5')"
   ]
  },
  {
   "cell_type": "code",
   "execution_count": null,
   "id": "121fb87e",
   "metadata": {},
   "outputs": [],
   "source": [
    "## save path\n",
    "model_name = 'unet_BN_default'\n",
    "checkpoint_filepath = '../save_model/semi_'+str(model_name)+'.h5'"
   ]
  },
  {
   "cell_type": "code",
   "execution_count": null,
   "id": "c93bd656",
   "metadata": {},
   "outputs": [],
   "source": [
    "## data (add augmented data if needed)\n",
    "training_images = inline[known_label,:,:,:]\n",
    "training_labels = np.array(inline_mask[known_label,:,:,:],dtype = 'float64')\n",
    "validation_images = inline[(known_label[0],known_label[1],valid_idx),:,:,:]\n",
    "validation_labels = np.array(inline_mask[(known_label[0],known_label[1],valid_idx),:,:,:],dtype = 'float64')"
   ]
  },
  {
   "cell_type": "code",
   "execution_count": null,
   "id": "567eab72-4b90-4b80-bd79-4d2c6cc31b02",
   "metadata": {},
   "outputs": [],
   "source": [
    "## training\n",
    "model_name = 'unet_BN_default'\n",
    "checkpoint_filepath = '../save_model/semi_model_'+str(model_name)+'.h5'\n",
    "\n",
    "n_epochs = 5 ## change into 500 for extensive training\n",
    "learning_rate = 0.001\n",
    "\n",
    "m_semi = model(1, 10, activation = 'softmax', test_case = 'test_UNet_semi_supervised')\n",
    "\n",
    "m_semi.compile(optimizer=tf.keras.optimizers.Adam(lr=learning_rate),\n",
    "               loss=['sparse_categorical_crossentropy'],\n",
    "               metrics=['mse','sparse_categorical_accuracy'])\n",
    "\n",
    "encoder_layer_num = {}\n",
    "encoder_layer_num['UNet'] = 30\n",
    "## load the pretraining encoder weight\n",
    "for i in range(encoder_layer_num['UNet']):\n",
    "    m_semi.layers[i].set_weights(m_pre.layers[i].get_weights())\n",
    "\n",
    "\n",
    "model_checkpoint_callback = tf.keras.callbacks.ModelCheckpoint(\n",
    "    filepath=checkpoint_filepath,\n",
    "    save_weights_only=True,\n",
    "    monitor='loss',\n",
    "    mode='min',\n",
    "    save_best_only=True)\n",
    "\n",
    "history_semi = m_semi.fit(training_images, \n",
    "                          training_labels, \n",
    "                          batch_size = 2,\n",
    "                          epochs=n_epochs, verbose = 1,callbacks= [model_checkpoint_callback],\n",
    "                          validation_data = (validation_images,validation_labels))"
   ]
  },
  {
   "cell_type": "markdown",
   "id": "5b0154e7-11d1-4f52-bd58-3893d17c7d2b",
   "metadata": {},
   "source": [
    "## A quick inference"
   ]
  },
  {
   "cell_type": "code",
   "execution_count": null,
   "id": "363b62eb-832a-4728-87b2-9d0953afc2aa",
   "metadata": {},
   "outputs": [],
   "source": [
    "images_test = inline[np.arange(0,601,50),:,:,:]\n",
    "prediction= m_semi.predict(images_test,batch_size = 1)"
   ]
  },
  {
   "cell_type": "code",
   "execution_count": null,
   "id": "8c8d6eae-e51e-4100-917f-c82a8c5a85ff",
   "metadata": {},
   "outputs": [],
   "source": [
    "plt.figure(figsize = [18,6])\n",
    "for i in np.arange(13):\n",
    "    ax = plt.subplot(3, 5, i+1)\n",
    "    ax.imshow(np.argmax(prediction,axis = 3)[i,:,:], vmin = 0, vmax = 9)\n",
    "    ax.set_xticks([])\n",
    "    ax.set_yticks([])\n",
    "    ax.set_title('Inline: '+str(i*50+100))"
   ]
  }
 ],
 "metadata": {
  "kernelspec": {
   "display_name": "Python 3.8 - Pytorch and Tensorflow",
   "language": "python",
   "name": "python38-azureml-pt-tf"
  },
  "language_info": {
   "codemirror_mode": {
    "name": "ipython",
    "version": 3
   },
   "file_extension": ".py",
   "mimetype": "text/x-python",
   "name": "python",
   "nbconvert_exporter": "python",
   "pygments_lexer": "ipython3",
   "version": "3.8.13"
  }
 },
 "nbformat": 4,
 "nbformat_minor": 5
}
